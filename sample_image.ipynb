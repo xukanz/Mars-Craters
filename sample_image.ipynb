{
 "cells": [
  {
   "cell_type": "code",
   "execution_count": 1,
   "metadata": {},
   "outputs": [
    {
     "name": "stdout",
     "output_type": "stream",
     "text": [
      "WARNING:tensorflow:Error in loading the saved optimizer state. As a result, your model is starting with a freshly initialized optimizer.\n",
      "WARNING:tensorflow:Error in loading the saved optimizer state. As a result, your model is starting with a freshly initialized optimizer.\n"
     ]
    }
   ],
   "source": [
    "from pycda import CDA,load_image\n",
    "from pycda.sample_data import get_sample_image\n",
    "cda=CDA()"
   ]
  },
  {
   "cell_type": "code",
   "execution_count": 2,
   "metadata": {},
   "outputs": [],
   "source": [
    "sample_image=get_sample_image(filename='rgb_sample.jpg')"
   ]
  },
  {
   "cell_type": "code",
   "execution_count": 3,
   "metadata": {},
   "outputs": [],
   "source": [
    "def cut_img(img,x,y,x1,y1):\n",
    "    im=img.crop((x, y, x1, y1))\n",
    "    im.show()"
   ]
  },
  {
   "cell_type": "code",
   "execution_count": 4,
   "metadata": {},
   "outputs": [],
   "source": [
    "def process_row_cda(detections,i):\n",
    "    dict={}\n",
    "    dict[\"lat\"]=int(detections.iloc[[i]].lat)\n",
    "    dict[\"long\"]=int(detections.iloc[[i]].long)\n",
    "    dict[\"radius\"]=float(detections.iloc[[i]].diameter)/2\n",
    "    return dict"
   ]
  },
  {
   "cell_type": "code",
   "execution_count": 5,
   "metadata": {},
   "outputs": [],
   "source": [
    "def detect_craters(image):\n",
    "    detections=cda.predict(image)\n",
    "    rows=[]\n",
    "    df = detections.reset_index(drop=True)\n",
    "    for index, row in df.iterrows():\n",
    "        i=df.index[(df['lat']==row['lat']) & (df['long']==row['long']) ].tolist()[0]\n",
    "        row=process_row_cda(detections,i)\n",
    "        rows.append(row)\n",
    "    return rows\n"
   ]
  },
  {
   "cell_type": "code",
   "execution_count": 6,
   "metadata": {},
   "outputs": [
    {
     "name": "stderr",
     "output_type": "stream",
     "text": [
      "D:\\anaconda\\lib\\site-packages\\pycda\\util_functions.py:107: FutureWarning: rgb2grey is deprecated. It will be removed in version 0.19.Please use rgb2gray instead.\n",
      "  return color.rgb2grey(image)\n",
      "D:\\anaconda\\lib\\site-packages\\pycda\\extractors.py:46: UserWarning: The argument 'neighbors' is deprecated and will be removed in scikit-image 0.18, use 'connectivity' instead. For neighbors=4, use connectivity=1\n",
      "  labels = measure.label(filtered, neighbors=4, background=0)\n"
     ]
    }
   ],
   "source": [
    "from PIL import Image\n",
    "\n",
    "def split_image(image):\n",
    "    \n",
    "    detections=detect_craters(image)\n",
    "            \n",
    "    for i in range(24,25):\n",
    "            row=detections[i]\n",
    "            y_coor=row[\"lat\"]\n",
    "            x_coor=row[\"long\"]\n",
    "            r=row[\"radius\"]\n",
    "            x=(x_coor-r)\n",
    "            x1=(x_coor+r)\n",
    "            y=(y_coor-r)\n",
    "            y1=(y_coor+r)\n",
    "    \n",
    "            cut_img(image,x,y,x1,y1)\n",
    "            \n",
    "input_image = Image.fromarray(sample_image.as_array())\n",
    "split_image(input_image)"
   ]
  },
  {
   "cell_type": "code",
   "execution_count": null,
   "metadata": {},
   "outputs": [],
   "source": []
  }
 ],
 "metadata": {
  "kernelspec": {
   "display_name": "Python 3",
   "language": "python",
   "name": "python3"
  },
  "language_info": {
   "codemirror_mode": {
    "name": "ipython",
    "version": 3
   },
   "file_extension": ".py",
   "mimetype": "text/x-python",
   "name": "python",
   "nbconvert_exporter": "python",
   "pygments_lexer": "ipython3",
   "version": "3.6.5"
  }
 },
 "nbformat": 4,
 "nbformat_minor": 2
}
